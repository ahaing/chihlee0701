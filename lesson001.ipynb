{
 "cells": [
  {
   "cell_type": "code",
   "execution_count": 1,
   "metadata": {},
   "outputs": [
    {
     "name": "stdout",
     "output_type": "stream",
     "text": [
      "hi\n"
     ]
    }
   ],
   "source": [
    "print(\"hi\")"
   ]
  },
  {
   "cell_type": "code",
   "execution_count": 9,
   "metadata": {},
   "outputs": [
    {
     "name": "stdout",
     "output_type": "stream",
     "text": [
      "True\n",
      "----\n"
     ]
    },
    {
     "data": {
      "text/plain": [
       "36.66"
      ]
     },
     "execution_count": 9,
     "metadata": {},
     "output_type": "execute_result"
    }
   ],
   "source": [
    "a=1234\n",
    "b=100\n",
    "b=101\n",
    "b=True #要大寫\n",
    "type(b)\n",
    "print(b)\n",
    "print('----')\n",
    "\n",
    "3+int('33')+float('0.33')+0.33"
   ]
  },
  {
   "cell_type": "code",
   "execution_count": 1,
   "metadata": {},
   "outputs": [
    {
     "name": "stdout",
     "output_type": "stream",
     "text": [
      "b'ABC'\n",
      "錯誤代碼：'bytes' object does not support item assignment\n"
     ]
    }
   ],
   "source": [
    "# 建立一個 bytes 物件\n",
    "b = bytes([65, 66, 67])\n",
    "# 輸出時會輸出 b'ABC'\n",
    "# 表示這是一個 bytes 物件\n",
    "print(b)\n",
    "\n",
    "# bytes不可變，若試圖更改內容會報錯\n",
    "try:\n",
    "    b[0] = 68\n",
    "except Exception as e:\n",
    "    print(f'錯誤代碼：{e}')\n",
    "    # 'bytes' object does not support item assignment"
   ]
  },
  {
   "attachments": {},
   "cell_type": "markdown",
   "metadata": {},
   "source": [
    "#下面不知道發生甚麼事，\n",
    "#桌機上可以正常執行 [ 879 1619] 1\n",
    "# 執行結果為: GCD of [879 1619] is 1\n"
   ]
  },
  {
   "cell_type": "code",
   "execution_count": 13,
   "metadata": {},
   "outputs": [
    {
     "ename": "ModuleNotFoundError",
     "evalue": "No module named 'numpy'",
     "output_type": "error",
     "traceback": [
      "\u001b[1;31m---------------------------------------------------------------------------\u001b[0m",
      "\u001b[1;31mModuleNotFoundError\u001b[0m                       Traceback (most recent call last)",
      "Cell \u001b[1;32mIn[13], line 2\u001b[0m\n\u001b[0;32m      1\u001b[0m \u001b[39mimport\u001b[39;00m \u001b[39mmath\u001b[39;00m\n\u001b[1;32m----> 2\u001b[0m \u001b[39mimport\u001b[39;00m \u001b[39mnumpy\u001b[39;00m \u001b[39mas\u001b[39;00m \u001b[39mnp\u001b[39;00m\n\u001b[0;32m      3\u001b[0m numbers \u001b[39m=\u001b[39m np\u001b[39m.\u001b[39mrandom\u001b[39m.\u001b[39mchoice(\u001b[39m10000\u001b[39m,\u001b[39m2\u001b[39m)\n\u001b[0;32m      4\u001b[0m answer \u001b[39m=\u001b[39m math\u001b[39m.\u001b[39mgcd(\u001b[39m*\u001b[39m\u001b[39mlist\u001b[39m(numbers))\n",
      "\u001b[1;31mModuleNotFoundError\u001b[0m: No module named 'numpy'"
     ]
    }
   ],
   "source": [
    "import math\n",
    "import numpy as np\n",
    "numbers = np.random.choice(10000,2)\n",
    "answer = math.gcd(*list(numbers))\n",
    "print(numbers, answer)\n",
    "\n",
    "#輾轉相除法 (歐基里德算法)\n",
    "bigger_one = max(numbers)\n",
    "smaller_one = min(numbers)\n",
    "\n",
    "answer = 0\n",
    "while True:\n",
    "    remainder = bigger_one % smaller_one\n",
    "    if remainder == 0:\n",
    "        answer = smaller_one\n",
    "        break\n",
    "    else:\n",
    "        bigger_one, smaller_one = smaller_one, remainder\n",
    "\n",
    "print(f\"GCD of {numbers} is {answer}\")\n",
    "        "
   ]
  }
 ],
 "metadata": {
  "kernelspec": {
   "display_name": "Python 3",
   "language": "python",
   "name": "python3"
  },
  "language_info": {
   "codemirror_mode": {
    "name": "ipython",
    "version": 3
   },
   "file_extension": ".py",
   "mimetype": "text/x-python",
   "name": "python",
   "nbconvert_exporter": "python",
   "pygments_lexer": "ipython3",
   "version": "3.11.3"
  },
  "orig_nbformat": 4
 },
 "nbformat": 4,
 "nbformat_minor": 2
}
