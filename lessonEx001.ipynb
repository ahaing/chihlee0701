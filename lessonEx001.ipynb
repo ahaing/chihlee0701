{
 "cells": [
  {
   "cell_type": "code",
   "execution_count": null,
   "metadata": {},
   "outputs": [],
   "source": [
    "#math001\n",
    "a,b,c = map(int, input().split(' '))    # 拆分輸入的字串，轉換成數字提供給變數 a、b、c\n",
    "if a !=0:     # 如果 a 不等於 0\n",
    "    r = b**2 - 4*a*c    # 計算開根號內的數值\n",
    "    if r>0:             # 如果開根號內的數值大於 0\n",
    "        x1 = int((b*-1 + r**0.5)/(2*a))    # 套用公式求出 x1\n",
    "        x2 = int((b*-1 - r**0.5)/(2*a))    # 套用公式求出 x2\n",
    "        if x1>x2:                          # 根據題目輸出結果\n",
    "            print(f'Two different roots x1={x1} , x2={x2}')\n",
    "        else:\n",
    "            print(f'Two different roots x1={x2} , x2={x1}')\n",
    "    elif r == 0:\n",
    "        x = int((b*-1 + r**0.5)/(2*a))\n",
    "        print(f'Two same roots x={x}')     # 根據題目輸出結果\n",
    "    else:     # 如果開根號內的數值小於 0\n",
    "        print('No real root')\n",
    "else:       # 如果 a 等於 0\n",
    "    print('No real root')"
   ]
  },
  {
   "cell_type": "code",
   "execution_count": null,
   "metadata": {},
   "outputs": [],
   "source": []
  }
 ],
 "metadata": {
  "language_info": {
   "name": "python"
  },
  "orig_nbformat": 4
 },
 "nbformat": 4,
 "nbformat_minor": 2
}
