{
 "cells": [
  {
   "cell_type": "code",
   "execution_count": null,
   "metadata": {},
   "outputs": [],
   "source": [
    "#math001\n",
    "a,b,c = map(int, input().split(' '))    # 拆分輸入的字串，轉換成數字提供給變數 a、b、c\n",
    "if a !=0:     # 如果 a 不等於 0\n",
    "    r = b**2 - 4*a*c    # 計算開根號內的數值\n",
    "    if r>0:             # 如果開根號內的數值大於 0\n",
    "        x1 = int((b*-1 + r**0.5)/(2*a))    # 套用公式求出 x1\n",
    "        x2 = int((b*-1 - r**0.5)/(2*a))    # 套用公式求出 x2\n",
    "        if x1>x2:                          # 根據題目輸出結果\n",
    "            print(f'Two different roots x1={x1} , x2={x2}')\n",
    "        else:\n",
    "            print(f'Two different roots x1={x2} , x2={x1}')\n",
    "    elif r == 0:\n",
    "        x = int((b*-1 + r**0.5)/(2*a))\n",
    "        print(f'Two same roots x={x}')     # 根據題目輸出結果\n",
    "    else:     # 如果開根號內的數值小於 0\n",
    "        print('No real root')\n",
    "else:       # 如果 a 等於 0\n",
    "    print('No real root')"
   ]
  },
  {
   "cell_type": "code",
   "execution_count": 1,
   "metadata": {},
   "outputs": [
    {
     "ename": "ModuleNotFoundError",
     "evalue": "No module named 'sympy'",
     "output_type": "error",
     "traceback": [
      "\u001b[1;31m---------------------------------------------------------------------------\u001b[0m",
      "\u001b[1;31mModuleNotFoundError\u001b[0m                       Traceback (most recent call last)",
      "Cell \u001b[1;32mIn[1], line 3\u001b[0m\n\u001b[0;32m      1\u001b[0m \u001b[39m#python sympy 內建函式 (input pip3 install sympy) <---用套件管理程式下載\u001b[39;00m\n\u001b[1;32m----> 3\u001b[0m \u001b[39mfrom\u001b[39;00m \u001b[39msympy\u001b[39;00m \u001b[39mimport\u001b[39;00m \u001b[39m*\u001b[39m\n\u001b[0;32m      4\u001b[0m x\u001b[39m=\u001b[39msymbols(\u001b[39m'\u001b[39m\u001b[39mx\u001b[39m\u001b[39m'\u001b[39m)\n\u001b[0;32m      5\u001b[0m \u001b[39m#limit #極限函數\u001b[39;00m\n",
      "\u001b[1;31mModuleNotFoundError\u001b[0m: No module named 'sympy'"
     ]
    }
   ],
   "source": [
    "#python sympy 內建函式 (input pip3 install sympy) <---用套件管理程式下載\n",
    "\n",
    "from sympy import *\n",
    "x=symbols('x')\n",
    "#limit #極限函數"
   ]
  },
  {
   "cell_type": "code",
   "execution_count": 2,
   "metadata": {},
   "outputs": [
    {
     "data": {
      "text/plain": [
       "False"
      ]
     },
     "execution_count": 2,
     "metadata": {},
     "output_type": "execute_result"
    }
   ],
   "source": [
    "3>5"
   ]
  }
 ],
 "metadata": {
  "kernelspec": {
   "display_name": "Python 3",
   "language": "python",
   "name": "python3"
  },
  "language_info": {
   "codemirror_mode": {
    "name": "ipython",
    "version": 3
   },
   "file_extension": ".py",
   "mimetype": "text/x-python",
   "name": "python",
   "nbconvert_exporter": "python",
   "pygments_lexer": "ipython3",
   "version": "3.11.3"
  },
  "orig_nbformat": 4
 },
 "nbformat": 4,
 "nbformat_minor": 2
}
