{
 "cells": [
  {
   "cell_type": "code",
   "execution_count": null,
   "metadata": {},
   "outputs": [],
   "source": [
    "#https://steam.oxxostudio.tw/category/python/spider/requests.html\n",
    "\n",
    "#Python 如何達成任務\n",
    "#https://docs.python.org/zh-tw/3/howto/index.html\n",
    "\n"
   ]
  }
 ],
 "metadata": {
  "language_info": {
   "name": "python"
  },
  "orig_nbformat": 4
 },
 "nbformat": 4,
 "nbformat_minor": 2
}
