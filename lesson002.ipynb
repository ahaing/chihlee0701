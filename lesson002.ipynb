{
 "cells": [
  {
   "cell_type": "code",
   "execution_count": 16,
   "metadata": {},
   "outputs": [
    {
     "name": "stdout",
     "output_type": "stream",
     "text": [
      "n3\n",
      "數值為:\n",
      "46\n"
     ]
    }
   ],
   "source": [
    "n1 = int(input(\"請輸入#1數字:\"))\n",
    "n2 = int(input(\"請輸入#2數字:\"))\n",
    "n3 = n1 + n2\n",
    "print(\"n3\\n數值為:\\n\",n3,sep=\"\") "
   ]
  },
  {
   "cell_type": "code",
   "execution_count": 11,
   "metadata": {},
   "outputs": [
    {
     "name": "stdout",
     "output_type": "stream",
     "text": [
      "直角三角形角度為:30.000000000000004度\n",
      "{30.000000000000004}\n",
      "30.000000000000004\n",
      "印出3388 going to print\n"
     ]
    }
   ],
   "source": [
    "#python 內建funciton & 內建的package\n",
    "#datatime日期與時間的基本型別\n",
    "import math\n",
    "n = float(input(\"請輸入斜邊:\"))\n",
    "m = float(input(\"請輸入對邊:\"))\n",
    "radion = math.asin(m/n)\n",
    "degree = math.degrees(radion)\n",
    "# 字串差補 f\"\n",
    "print(f\"直角三角形角度為:{degree}度\")\n",
    "print({degree})\n",
    "print(degree)\n",
    "a=3388\n",
    "b= \"going to print\"\n",
    "# 字串差補 f\"\n",
    "print(f\"印出{a}\",b)\n",
    "\n",
    "\n"
   ]
  },
  {
   "cell_type": "code",
   "execution_count": 19,
   "metadata": {},
   "outputs": [
    {
     "name": "stdout",
     "output_type": "stream",
     "text": [
      "總分為:300\n"
     ]
    }
   ],
   "source": [
    "#總分300\n",
    "#有些可加分5%\n",
    "#如果加分>300則為300\n",
    "\n",
    "scores = int(input(\"請輸入分數(最高300分)\"))\n",
    "is_add = input(\"學生是否具有加分條件?(y,n)\")\n",
    "\n",
    "if is_add == \"y\":\n",
    "    scores = scores + scores * 0.05 #先做*的運算\n",
    "    if scores >= 300:\n",
    "        scores = 300\n",
    "\n",
    "print(f\"總分為:{scores}\")"
   ]
  },
  {
   "cell_type": "code",
   "execution_count": 26,
   "metadata": {},
   "outputs": [
    {
     "name": "stdout",
     "output_type": "stream",
     "text": [
      "及格\n",
      "not bad\n"
     ]
    }
   ],
   "source": [
    "chinese = int(input(\"請輸入國文分數:\"))\n",
    "if chinese < 60:\n",
    "    print(\"不及格掰!\")\n",
    "else:\n",
    "    print(\"及格\")\n",
    "    if chinese < 80:\n",
    "        print(\"not bad\")\n",
    "    else:\n",
    "        print(\"very good\")\n",
    "        \n"
   ]
  },
  {
   "cell_type": "code",
   "execution_count": 27,
   "metadata": {},
   "outputs": [
    {
     "name": "stdout",
     "output_type": "stream",
     "text": [
      "safe\n"
     ]
    }
   ],
   "source": [
    "SCORE = int(input(\"keyin score\")) #多項選擇 #如果if/elif裡面有多個true，則python只執行第一個之後就跳出\n",
    "if SCORE >= 90:\n",
    "    print(\"very good\")\n",
    "elif SCORE >= 80:\n",
    "    print(\"good\")\n",
    "elif SCORE >= 60:\n",
    "    print(\"safe\")\n",
    "else:\n",
    "    print(\"fail!!!!\")"
   ]
  },
  {
   "cell_type": "code",
   "execution_count": 39,
   "metadata": {},
   "outputs": [
    {
     "name": "stdout",
     "output_type": "stream",
     "text": [
      "100讚讚\n"
     ]
    }
   ],
   "source": [
    "ENG = float(input(\"keyin ENG score\")) #若為int，則不可以輸入小數\n",
    "#ENG = 10\n",
    "if not ENG >= 100:\n",
    "    print(\"ENG沒有滿分\")\n",
    "elif ENG > 100:\n",
    "    print(\"騙人滿分不可能超過\")\n",
    "else:\n",
    "    print(\"100分讚讚\")"
   ]
  },
  {
   "cell_type": "code",
   "execution_count": 43,
   "metadata": {},
   "outputs": [
    {
     "name": "stdout",
     "output_type": "stream",
     "text": [
      "you only got $500\n"
     ]
    }
   ],
   "source": [
    "MATH=100\n",
    "SCI=1000\n",
    "\n",
    "if MATH == 100 and SCI == 100:\n",
    "    print(\"you got $1000\")\n",
    "elif SCI == 100 or MATH == 100:\n",
    "    print(\"you only got $500\")\n",
    "else:\n",
    "    print(\"you are priceLoser HAHA\")"
   ]
  }
 ],
 "metadata": {
  "kernelspec": {
   "display_name": "Python 3",
   "language": "python",
   "name": "python3"
  },
  "language_info": {
   "codemirror_mode": {
    "name": "ipython",
    "version": 3
   },
   "file_extension": ".py",
   "mimetype": "text/x-python",
   "name": "python",
   "nbconvert_exporter": "python",
   "pygments_lexer": "ipython3",
   "version": "3.11.3"
  },
  "orig_nbformat": 4
 },
 "nbformat": 4,
 "nbformat_minor": 2
}
