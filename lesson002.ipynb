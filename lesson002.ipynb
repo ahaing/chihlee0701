{
 "cells": [
  {
   "cell_type": "code",
   "execution_count": 16,
   "metadata": {},
   "outputs": [
    {
     "name": "stdout",
     "output_type": "stream",
     "text": [
      "n3\n",
      "數值為:\n",
      "46\n"
     ]
    }
   ],
   "source": [
    "n1 = int(input(\"請輸入#1數字:\"))\n",
    "n2 = int(input(\"請輸入#2數字:\"))\n",
    "n3 = n1 + n2\n",
    "print(\"n3\\n數值為:\\n\",n3,sep=\"\") "
   ]
  },
  {
   "cell_type": "code",
   "execution_count": 11,
   "metadata": {},
   "outputs": [
    {
     "name": "stdout",
     "output_type": "stream",
     "text": [
      "直角三角形角度為:30.000000000000004度\n",
      "{30.000000000000004}\n",
      "30.000000000000004\n",
      "印出3388 going to print\n"
     ]
    }
   ],
   "source": [
    "#python 內建funciton & 內建的package\n",
    "#datatime日期與時間的基本型別\n",
    "import math\n",
    "n = float(input(\"請輸入斜邊:\"))\n",
    "m = float(input(\"請輸入對邊:\"))\n",
    "radion = math.asin(m/n)\n",
    "degree = math.degrees(radion)\n",
    "# 字串差補 f\"\n",
    "print(f\"直角三角形角度為:{degree}度\")\n",
    "print({degree})\n",
    "print(degree)\n",
    "a=3388\n",
    "b= \"going to print\"\n",
    "# 字串差補 f\"\n",
    "print(f\"印出{a}\",b)\n",
    "\n",
    "\n"
   ]
  },
  {
   "cell_type": "code",
   "execution_count": null,
   "metadata": {},
   "outputs": [],
   "source": [
    "#總分300\n",
    "#有些可加分5%\n",
    "#如果加分>300則為300\n",
    "\n",
    "scores = int(input(\"請輸入分數(最高300分)\"))\n",
    "is_add = input(\"學生是否具有加分條件?(y,n)\")\n",
    "\n",
    "if is_add == \"y\":\n",
    "    scores + scores * 0.05 #先做*的運算\n",
    "\n",
    "print(f\"總分為:{scores}\")"
   ]
  }
 ],
 "metadata": {
  "kernelspec": {
   "display_name": "Python 3",
   "language": "python",
   "name": "python3"
  },
  "language_info": {
   "codemirror_mode": {
    "name": "ipython",
    "version": 3
   },
   "file_extension": ".py",
   "mimetype": "text/x-python",
   "name": "python",
   "nbconvert_exporter": "python",
   "pygments_lexer": "ipython3",
   "version": "3.11.3"
  },
  "orig_nbformat": 4
 },
 "nbformat": 4,
 "nbformat_minor": 2
}
